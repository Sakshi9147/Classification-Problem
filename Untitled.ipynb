{
 "cells": [
  {
   "cell_type": "code",
   "execution_count": 410,
   "metadata": {},
   "outputs": [],
   "source": [
    "import pandas as pd\n",
    "import numpy as np\n",
    "from matplotlib import pyplot as plt\n",
    "from IPython.display import display\n",
    "import seaborn as sn\n",
    "from sklearn.model_selection import train_test_split\n",
    "from sklearn.linear_model import LogisticRegression\n",
    "from sklearn.discriminant_analysis import LinearDiscriminantAnalysis\n",
    "from sklearn.ensemble import RandomForestClassifier\n",
    "from sklearn.model_selection import GridSearchCV\n",
    "from sklearn.metrics import (\n",
    "    confusion_matrix,\n",
    "    log_loss,\n",
    "    roc_auc_score,\n",
    "    accuracy_score,\n",
    "    precision_score,\n",
    "    recall_score,\n",
    "    f1_score,\n",
    "    cohen_kappa_score,\n",
    "    roc_curve,\n",
    "    auc\n",
    ")\n"
   ]
  },
  {
   "cell_type": "markdown",
   "metadata": {},
   "source": [
    " First few lines of code that follow are to import the dataset, seperate the labels from the dataset and cleaning the Dataset. "
   ]
  },
  {
   "cell_type": "code",
   "execution_count": 411,
   "metadata": {},
   "outputs": [],
   "source": [
    "pea_data = pd.read_csv('C:\\\\Users\\\\saksh\\\\Desktop\\\\sem2\\\\pea_data.csv',sep = ';')"
   ]
  },
  {
   "cell_type": "code",
   "execution_count": 412,
   "metadata": {},
   "outputs": [],
   "source": [
    "labels = pea_data.lateness\n",
    "pea_data.drop('lateness',inplace=True,axis=1)"
   ]
  },
  {
   "cell_type": "code",
   "execution_count": 413,
   "metadata": {
    "scrolled": true
   },
   "outputs": [
    {
     "data": {
      "text/html": [
       "<div>\n",
       "<style scoped>\n",
       "    .dataframe tbody tr th:only-of-type {\n",
       "        vertical-align: middle;\n",
       "    }\n",
       "\n",
       "    .dataframe tbody tr th {\n",
       "        vertical-align: top;\n",
       "    }\n",
       "\n",
       "    .dataframe thead th {\n",
       "        text-align: right;\n",
       "    }\n",
       "</style>\n",
       "<table border=\"1\" class=\"dataframe\">\n",
       "  <thead>\n",
       "    <tr style=\"text-align: right;\">\n",
       "      <th></th>\n",
       "      <th>Unnamed: 0</th>\n",
       "      <th>order_weight_min</th>\n",
       "      <th>order_weight_aim</th>\n",
       "      <th>order_weight_max</th>\n",
       "      <th>customer_order_id</th>\n",
       "      <th>production_order_id</th>\n",
       "      <th>width</th>\n",
       "      <th>thickness</th>\n",
       "      <th>output_weight_target</th>\n",
       "      <th>material_sub_type</th>\n",
       "      <th>...</th>\n",
       "      <th>last_coil_delivered_date</th>\n",
       "      <th>total_downgrade_weight</th>\n",
       "      <th>hr_downgrade_weight</th>\n",
       "      <th>hrp_downgrade_weight</th>\n",
       "      <th>crfh_downgrade_weight</th>\n",
       "      <th>crfp_downgrade_weight</th>\n",
       "      <th>crca_downgrade_weight</th>\n",
       "      <th>hrgi_downgrade_weight</th>\n",
       "      <th>crgi_downgrade_weight</th>\n",
       "      <th>rework_weight</th>\n",
       "    </tr>\n",
       "  </thead>\n",
       "  <tbody>\n",
       "    <tr>\n",
       "      <th>0</th>\n",
       "      <td>0</td>\n",
       "      <td>97,9759521484375</td>\n",
       "      <td>65,3172988891602</td>\n",
       "      <td>199,580642700195</td>\n",
       "      <td>9718</td>\n",
       "      <td>10794</td>\n",
       "      <td>1231,90002441406</td>\n",
       "      <td>2,1082000732421897</td>\n",
       "      <td>90,71847534179692</td>\n",
       "      <td>1</td>\n",
       "      <td>...</td>\n",
       "      <td>2017-11-30 20:11:22</td>\n",
       "      <td>0,0</td>\n",
       "      <td>82,98936462402341</td>\n",
       "      <td>0,0</td>\n",
       "      <td>0,0</td>\n",
       "      <td>0,0</td>\n",
       "      <td>0,0</td>\n",
       "      <td>0,0</td>\n",
       "      <td>0,0</td>\n",
       "      <td>0,0</td>\n",
       "    </tr>\n",
       "    <tr>\n",
       "      <th>1</th>\n",
       "      <td>1</td>\n",
       "      <td>408,23312377929705</td>\n",
       "      <td>22,6796188354492</td>\n",
       "      <td>24,9475803375244</td>\n",
       "      <td>3912</td>\n",
       "      <td>22825</td>\n",
       "      <td>1219,19995117188</td>\n",
       "      <td>1,87960004806519</td>\n",
       "      <td>65,3172988891602</td>\n",
       "      <td>8</td>\n",
       "      <td>...</td>\n",
       "      <td>2018-01-01 00:58:49</td>\n",
       "      <td>0,0</td>\n",
       "      <td>0,0</td>\n",
       "      <td>0,0</td>\n",
       "      <td>0,0</td>\n",
       "      <td>0,0</td>\n",
       "      <td>0,0</td>\n",
       "      <td>0,0</td>\n",
       "      <td>0,0</td>\n",
       "      <td>0,0</td>\n",
       "    </tr>\n",
       "    <tr>\n",
       "      <th>2</th>\n",
       "      <td>2</td>\n",
       "      <td>19,5951900482178</td>\n",
       "      <td>61,2349700927734</td>\n",
       "      <td>39,916130065918004</td>\n",
       "      <td>9118</td>\n",
       "      <td>10969</td>\n",
       "      <td>1828,8000488281198</td>\n",
       "      <td>0,8636000156402591</td>\n",
       "      <td>54,431087493896506</td>\n",
       "      <td>3</td>\n",
       "      <td>...</td>\n",
       "      <td>2017-09-12 08:03:11</td>\n",
       "      <td>0,0</td>\n",
       "      <td>0,0</td>\n",
       "      <td>0,0</td>\n",
       "      <td>0,0</td>\n",
       "      <td>0,0</td>\n",
       "      <td>0,0</td>\n",
       "      <td>0,0</td>\n",
       "      <td>0,0</td>\n",
       "      <td>0,0</td>\n",
       "    </tr>\n",
       "    <tr>\n",
       "      <th>3</th>\n",
       "      <td>3</td>\n",
       "      <td>81,64662170410159</td>\n",
       "      <td>163,29324340820298</td>\n",
       "      <td>498,951599121094</td>\n",
       "      <td>10904</td>\n",
       "      <td>26184</td>\n",
       "      <td>1651,0</td>\n",
       "      <td>1,47319996356964</td>\n",
       "      <td>36,287391662597706</td>\n",
       "      <td>8</td>\n",
       "      <td>...</td>\n",
       "      <td>2018-04-25 06:52:15</td>\n",
       "      <td>0,0</td>\n",
       "      <td>0,0</td>\n",
       "      <td>0,0</td>\n",
       "      <td>0,0</td>\n",
       "      <td>0,0</td>\n",
       "      <td>0,0</td>\n",
       "      <td>0,0</td>\n",
       "      <td>0,0</td>\n",
       "      <td>15,7250003814697</td>\n",
       "    </tr>\n",
       "    <tr>\n",
       "      <th>4</th>\n",
       "      <td>4</td>\n",
       "      <td>1095,69775390625</td>\n",
       "      <td>45,3592376708984</td>\n",
       "      <td>42,909839630127</td>\n",
       "      <td>10433</td>\n",
       "      <td>18136</td>\n",
       "      <td>1219,19995117188</td>\n",
       "      <td>12,4460000991821</td>\n",
       "      <td>181,436950683594</td>\n",
       "      <td>3</td>\n",
       "      <td>...</td>\n",
       "      <td>2017-09-09 16:24:56</td>\n",
       "      <td>0,0</td>\n",
       "      <td>0,0</td>\n",
       "      <td>0,0</td>\n",
       "      <td>30,708679199218803</td>\n",
       "      <td>0,0</td>\n",
       "      <td>0,0</td>\n",
       "      <td>0,0</td>\n",
       "      <td>0,0</td>\n",
       "      <td>0,0</td>\n",
       "    </tr>\n",
       "  </tbody>\n",
       "</table>\n",
       "<p>5 rows × 40 columns</p>\n",
       "</div>"
      ],
      "text/plain": [
       "   Unnamed: 0    order_weight_min    order_weight_aim    order_weight_max  \\\n",
       "0           0    97,9759521484375    65,3172988891602    199,580642700195   \n",
       "1           1  408,23312377929705    22,6796188354492    24,9475803375244   \n",
       "2           2    19,5951900482178    61,2349700927734  39,916130065918004   \n",
       "3           3   81,64662170410159  163,29324340820298    498,951599121094   \n",
       "4           4    1095,69775390625    45,3592376708984     42,909839630127   \n",
       "\n",
       "   customer_order_id  production_order_id               width  \\\n",
       "0               9718                10794    1231,90002441406   \n",
       "1               3912                22825    1219,19995117188   \n",
       "2               9118                10969  1828,8000488281198   \n",
       "3              10904                26184              1651,0   \n",
       "4              10433                18136    1219,19995117188   \n",
       "\n",
       "            thickness output_weight_target  material_sub_type  ...  \\\n",
       "0  2,1082000732421897    90,71847534179692                  1  ...   \n",
       "1    1,87960004806519     65,3172988891602                  8  ...   \n",
       "2  0,8636000156402591   54,431087493896506                  3  ...   \n",
       "3    1,47319996356964   36,287391662597706                  8  ...   \n",
       "4    12,4460000991821     181,436950683594                  3  ...   \n",
       "\n",
       "   last_coil_delivered_date  total_downgrade_weight hr_downgrade_weight  \\\n",
       "0       2017-11-30 20:11:22                     0,0   82,98936462402341   \n",
       "1       2018-01-01 00:58:49                     0,0                 0,0   \n",
       "2       2017-09-12 08:03:11                     0,0                 0,0   \n",
       "3       2018-04-25 06:52:15                     0,0                 0,0   \n",
       "4       2017-09-09 16:24:56                     0,0                 0,0   \n",
       "\n",
       "  hrp_downgrade_weight crfh_downgrade_weight  crfp_downgrade_weight  \\\n",
       "0                  0,0                   0,0                    0,0   \n",
       "1                  0,0                   0,0                    0,0   \n",
       "2                  0,0                   0,0                    0,0   \n",
       "3                  0,0                   0,0                    0,0   \n",
       "4                  0,0    30,708679199218803                    0,0   \n",
       "\n",
       "  crca_downgrade_weight hrgi_downgrade_weight  crgi_downgrade_weight  \\\n",
       "0                   0,0                   0,0                    0,0   \n",
       "1                   0,0                   0,0                    0,0   \n",
       "2                   0,0                   0,0                    0,0   \n",
       "3                   0,0                   0,0                    0,0   \n",
       "4                   0,0                   0,0                    0,0   \n",
       "\n",
       "      rework_weight  \n",
       "0               0,0  \n",
       "1               0,0  \n",
       "2               0,0  \n",
       "3  15,7250003814697  \n",
       "4               0,0  \n",
       "\n",
       "[5 rows x 40 columns]"
      ]
     },
     "execution_count": 413,
     "metadata": {},
     "output_type": "execute_result"
    }
   ],
   "source": [
    "pea_data.head(5)"
   ]
  },
  {
   "cell_type": "markdown",
   "metadata": {},
   "source": [
    "The first problem we face is that columns that should be float are represented as strings.In these columns the numeric value are separated by commas instead of point. For an example look at the 'order_weight_min' column from the above table.So, We ll first select all the columns that are strings and remove the commas and replace them with Decimal points then finally convert them into floating values."
   ]
  },
  {
   "cell_type": "code",
   "execution_count": 414,
   "metadata": {},
   "outputs": [
    {
     "name": "stderr",
     "output_type": "stream",
     "text": [
      "C:\\Users\\saksh\\Anaconda3\\lib\\site-packages\\pandas\\core\\frame.py:3940: SettingWithCopyWarning: \n",
      "A value is trying to be set on a copy of a slice from a DataFrame\n",
      "\n",
      "See the caveats in the documentation: http://pandas.pydata.org/pandas-docs/stable/indexing.html#indexing-view-versus-copy\n",
      "  errors=errors)\n"
     ]
    }
   ],
   "source": [
    "str_cols = pea_data.select_dtypes(include = ['object'])\n",
    "str_cols.drop(['steel_grade_int_text_en','steel_grade_group_text','value_name'],inplace=True,axis=1)\n",
    "str_cols.drop(['due_date', 'date_planned_initial_end', 'date_target_end',\\\n",
    "       'first_coil_end_date', 'first_coil_released_date',\\\n",
    "       'first_coil_delivered_date', 'last_coil_end_date',\\\n",
    "       'last_coil_released_date', 'last_coil_delivered_date',],inplace=True,axis=1)"
   ]
  },
  {
   "cell_type": "code",
   "execution_count": 415,
   "metadata": {},
   "outputs": [],
   "source": [
    "for i in str_cols.columns:\n",
    "    pea_data[i] = pea_data[i].apply(lambda x: x.replace(\",\",\".\"))\n",
    "    pea_data[i] = pea_data[i].astype(float)\n",
    "    \n",
    "    "
   ]
  },
  {
   "cell_type": "code",
   "execution_count": 416,
   "metadata": {},
   "outputs": [
    {
     "data": {
      "text/html": [
       "<div>\n",
       "<style scoped>\n",
       "    .dataframe tbody tr th:only-of-type {\n",
       "        vertical-align: middle;\n",
       "    }\n",
       "\n",
       "    .dataframe tbody tr th {\n",
       "        vertical-align: top;\n",
       "    }\n",
       "\n",
       "    .dataframe thead th {\n",
       "        text-align: right;\n",
       "    }\n",
       "</style>\n",
       "<table border=\"1\" class=\"dataframe\">\n",
       "  <thead>\n",
       "    <tr style=\"text-align: right;\">\n",
       "      <th></th>\n",
       "      <th>Unnamed: 0</th>\n",
       "      <th>order_weight_min</th>\n",
       "      <th>order_weight_aim</th>\n",
       "      <th>order_weight_max</th>\n",
       "      <th>customer_order_id</th>\n",
       "      <th>production_order_id</th>\n",
       "      <th>width</th>\n",
       "      <th>thickness</th>\n",
       "      <th>output_weight_target</th>\n",
       "      <th>material_sub_type</th>\n",
       "      <th>...</th>\n",
       "      <th>last_coil_delivered_date</th>\n",
       "      <th>total_downgrade_weight</th>\n",
       "      <th>hr_downgrade_weight</th>\n",
       "      <th>hrp_downgrade_weight</th>\n",
       "      <th>crfh_downgrade_weight</th>\n",
       "      <th>crfp_downgrade_weight</th>\n",
       "      <th>crca_downgrade_weight</th>\n",
       "      <th>hrgi_downgrade_weight</th>\n",
       "      <th>crgi_downgrade_weight</th>\n",
       "      <th>rework_weight</th>\n",
       "    </tr>\n",
       "  </thead>\n",
       "  <tbody>\n",
       "    <tr>\n",
       "      <th>0</th>\n",
       "      <td>0</td>\n",
       "      <td>97.975952</td>\n",
       "      <td>65.317299</td>\n",
       "      <td>199.580643</td>\n",
       "      <td>9718</td>\n",
       "      <td>10794</td>\n",
       "      <td>1231.900024</td>\n",
       "      <td>2.1082</td>\n",
       "      <td>90.718475</td>\n",
       "      <td>1</td>\n",
       "      <td>...</td>\n",
       "      <td>2017-11-30 20:11:22</td>\n",
       "      <td>0.0</td>\n",
       "      <td>82.989365</td>\n",
       "      <td>0.0</td>\n",
       "      <td>0.000000</td>\n",
       "      <td>0.0</td>\n",
       "      <td>0.0</td>\n",
       "      <td>0.0</td>\n",
       "      <td>0.0</td>\n",
       "      <td>0.000</td>\n",
       "    </tr>\n",
       "    <tr>\n",
       "      <th>1</th>\n",
       "      <td>1</td>\n",
       "      <td>408.233124</td>\n",
       "      <td>22.679619</td>\n",
       "      <td>24.947580</td>\n",
       "      <td>3912</td>\n",
       "      <td>22825</td>\n",
       "      <td>1219.199951</td>\n",
       "      <td>1.8796</td>\n",
       "      <td>65.317299</td>\n",
       "      <td>8</td>\n",
       "      <td>...</td>\n",
       "      <td>2018-01-01 00:58:49</td>\n",
       "      <td>0.0</td>\n",
       "      <td>0.000000</td>\n",
       "      <td>0.0</td>\n",
       "      <td>0.000000</td>\n",
       "      <td>0.0</td>\n",
       "      <td>0.0</td>\n",
       "      <td>0.0</td>\n",
       "      <td>0.0</td>\n",
       "      <td>0.000</td>\n",
       "    </tr>\n",
       "    <tr>\n",
       "      <th>2</th>\n",
       "      <td>2</td>\n",
       "      <td>19.595190</td>\n",
       "      <td>61.234970</td>\n",
       "      <td>39.916130</td>\n",
       "      <td>9118</td>\n",
       "      <td>10969</td>\n",
       "      <td>1828.800049</td>\n",
       "      <td>0.8636</td>\n",
       "      <td>54.431087</td>\n",
       "      <td>3</td>\n",
       "      <td>...</td>\n",
       "      <td>2017-09-12 08:03:11</td>\n",
       "      <td>0.0</td>\n",
       "      <td>0.000000</td>\n",
       "      <td>0.0</td>\n",
       "      <td>0.000000</td>\n",
       "      <td>0.0</td>\n",
       "      <td>0.0</td>\n",
       "      <td>0.0</td>\n",
       "      <td>0.0</td>\n",
       "      <td>0.000</td>\n",
       "    </tr>\n",
       "    <tr>\n",
       "      <th>3</th>\n",
       "      <td>3</td>\n",
       "      <td>81.646622</td>\n",
       "      <td>163.293243</td>\n",
       "      <td>498.951599</td>\n",
       "      <td>10904</td>\n",
       "      <td>26184</td>\n",
       "      <td>1651.000000</td>\n",
       "      <td>1.4732</td>\n",
       "      <td>36.287392</td>\n",
       "      <td>8</td>\n",
       "      <td>...</td>\n",
       "      <td>2018-04-25 06:52:15</td>\n",
       "      <td>0.0</td>\n",
       "      <td>0.000000</td>\n",
       "      <td>0.0</td>\n",
       "      <td>0.000000</td>\n",
       "      <td>0.0</td>\n",
       "      <td>0.0</td>\n",
       "      <td>0.0</td>\n",
       "      <td>0.0</td>\n",
       "      <td>15.725</td>\n",
       "    </tr>\n",
       "    <tr>\n",
       "      <th>4</th>\n",
       "      <td>4</td>\n",
       "      <td>1095.697754</td>\n",
       "      <td>45.359238</td>\n",
       "      <td>42.909840</td>\n",
       "      <td>10433</td>\n",
       "      <td>18136</td>\n",
       "      <td>1219.199951</td>\n",
       "      <td>12.4460</td>\n",
       "      <td>181.436951</td>\n",
       "      <td>3</td>\n",
       "      <td>...</td>\n",
       "      <td>2017-09-09 16:24:56</td>\n",
       "      <td>0.0</td>\n",
       "      <td>0.000000</td>\n",
       "      <td>0.0</td>\n",
       "      <td>30.708679</td>\n",
       "      <td>0.0</td>\n",
       "      <td>0.0</td>\n",
       "      <td>0.0</td>\n",
       "      <td>0.0</td>\n",
       "      <td>0.000</td>\n",
       "    </tr>\n",
       "  </tbody>\n",
       "</table>\n",
       "<p>5 rows × 40 columns</p>\n",
       "</div>"
      ],
      "text/plain": [
       "   Unnamed: 0  order_weight_min  order_weight_aim  order_weight_max  \\\n",
       "0           0         97.975952         65.317299        199.580643   \n",
       "1           1        408.233124         22.679619         24.947580   \n",
       "2           2         19.595190         61.234970         39.916130   \n",
       "3           3         81.646622        163.293243        498.951599   \n",
       "4           4       1095.697754         45.359238         42.909840   \n",
       "\n",
       "   customer_order_id  production_order_id        width  thickness  \\\n",
       "0               9718                10794  1231.900024     2.1082   \n",
       "1               3912                22825  1219.199951     1.8796   \n",
       "2               9118                10969  1828.800049     0.8636   \n",
       "3              10904                26184  1651.000000     1.4732   \n",
       "4              10433                18136  1219.199951    12.4460   \n",
       "\n",
       "   output_weight_target  material_sub_type  ...  last_coil_delivered_date  \\\n",
       "0             90.718475                  1  ...       2017-11-30 20:11:22   \n",
       "1             65.317299                  8  ...       2018-01-01 00:58:49   \n",
       "2             54.431087                  3  ...       2017-09-12 08:03:11   \n",
       "3             36.287392                  8  ...       2018-04-25 06:52:15   \n",
       "4            181.436951                  3  ...       2017-09-09 16:24:56   \n",
       "\n",
       "   total_downgrade_weight  hr_downgrade_weight  hrp_downgrade_weight  \\\n",
       "0                     0.0            82.989365                   0.0   \n",
       "1                     0.0             0.000000                   0.0   \n",
       "2                     0.0             0.000000                   0.0   \n",
       "3                     0.0             0.000000                   0.0   \n",
       "4                     0.0             0.000000                   0.0   \n",
       "\n",
       "   crfh_downgrade_weight  crfp_downgrade_weight crca_downgrade_weight  \\\n",
       "0               0.000000                    0.0                   0.0   \n",
       "1               0.000000                    0.0                   0.0   \n",
       "2               0.000000                    0.0                   0.0   \n",
       "3               0.000000                    0.0                   0.0   \n",
       "4              30.708679                    0.0                   0.0   \n",
       "\n",
       "  hrgi_downgrade_weight  crgi_downgrade_weight  rework_weight  \n",
       "0                   0.0                    0.0          0.000  \n",
       "1                   0.0                    0.0          0.000  \n",
       "2                   0.0                    0.0          0.000  \n",
       "3                   0.0                    0.0         15.725  \n",
       "4                   0.0                    0.0          0.000  \n",
       "\n",
       "[5 rows x 40 columns]"
      ]
     },
     "execution_count": 416,
     "metadata": {},
     "output_type": "execute_result"
    }
   ],
   "source": [
    "pea_data.head(5)"
   ]
  },
  {
   "cell_type": "markdown",
   "metadata": {},
   "source": [
    "'downgrade_weight' column in the dataset has 814 values recorded as 0 which means these are missing values .So, to build a simple model we are dropping all the columns with such missing values."
   ]
  },
  {
   "cell_type": "code",
   "execution_count": 417,
   "metadata": {},
   "outputs": [
    {
     "data": {
      "text/plain": [
       "0.000000      814\n",
       "21.001354       3\n",
       "21.237221       2\n",
       "19.944799       1\n",
       "18.851322       1\n",
       "9.401000        1\n",
       "20.801771       1\n",
       "16.583357       1\n",
       "18.978329       1\n",
       "11.542000       1\n",
       "60.173637       1\n",
       "38.331001       1\n",
       "54.706001       1\n",
       "28.303440       1\n",
       "21.178810       1\n",
       "6.237000        1\n",
       "39.517014       1\n",
       "20.039736       1\n",
       "78.341995       1\n",
       "15.925460       1\n",
       "196.559021      1\n",
       "120.346169      1\n",
       "33.357998       1\n",
       "40.209389       1\n",
       "208.945892      1\n",
       "19.668177       1\n",
       "20.579430       1\n",
       "31.716064       1\n",
       "15.866681       1\n",
       "22.184500       1\n",
       "             ... \n",
       "46.280060       1\n",
       "21.890394       1\n",
       "19.172001       1\n",
       "20.483900       1\n",
       "79.062988       1\n",
       "91.062927       1\n",
       "19.513569       1\n",
       "276.787842      1\n",
       "26.834558       1\n",
       "10.056000       1\n",
       "244.423096      1\n",
       "32.604259       1\n",
       "48.709148       1\n",
       "11.593835       1\n",
       "91.580414       1\n",
       "31.730068       1\n",
       "56.727364       1\n",
       "45.398499       1\n",
       "20.573999       1\n",
       "20.917999       1\n",
       "18.863001       1\n",
       "13.819000       1\n",
       "19.450064       1\n",
       "41.975491       1\n",
       "21.337011       1\n",
       "116.074432      1\n",
       "34.912498       1\n",
       "18.887609       1\n",
       "20.293749       1\n",
       "45.469646       1\n",
       "Name: total_downgrade_weight, Length: 184, dtype: int64"
      ]
     },
     "execution_count": 417,
     "metadata": {},
     "output_type": "execute_result"
    }
   ],
   "source": [
    "pea_data.total_downgrade_weight.value_counts()"
   ]
  },
  {
   "cell_type": "code",
   "execution_count": 418,
   "metadata": {},
   "outputs": [],
   "source": [
    "pea_data.drop(['total_downgrade_weight','hr_downgrade_weight','hrp_downgrade_weight','crfh_downgrade_weight','crfp_downgrade_weight','crca_downgrade_weight','hrgi_downgrade_weight','crgi_downgrade_weight','rework_weight'],inplace=True,axis=1)"
   ]
  },
  {
   "cell_type": "markdown",
   "metadata": {},
   "source": [
    "Next, we look for remaining null values in the dataset."
   ]
  },
  {
   "cell_type": "code",
   "execution_count": 419,
   "metadata": {},
   "outputs": [
    {
     "data": {
      "text/plain": [
       "Unnamed: 0                   0\n",
       "order_weight_min             0\n",
       "order_weight_aim             0\n",
       "order_weight_max             0\n",
       "customer_order_id            0\n",
       "production_order_id          0\n",
       "width                        0\n",
       "thickness                    0\n",
       "output_weight_target         0\n",
       "material_sub_type            0\n",
       "steel_grade_id_int           0\n",
       "customer_priority            0\n",
       "piece_weight_min             0\n",
       "piece_weight_aim             0\n",
       "piece_weight_max             0\n",
       "rh_mode                      0\n",
       "steel_grade_int_text_en      0\n",
       "steel_grade_group_text       0\n",
       "q2count                      0\n",
       "q3count                      0\n",
       "productionsteps              0\n",
       "value_name                   0\n",
       "due_date                     0\n",
       "date_planned_initial_end     0\n",
       "date_target_end              0\n",
       "first_coil_end_date          0\n",
       "first_coil_released_date     0\n",
       "first_coil_delivered_date    0\n",
       "last_coil_end_date           0\n",
       "last_coil_released_date      0\n",
       "last_coil_delivered_date     0\n",
       "dtype: int64"
      ]
     },
     "execution_count": 419,
     "metadata": {},
     "output_type": "execute_result"
    }
   ],
   "source": [
    "pea_data.apply(lambda x: sum(x.isnull()))"
   ]
  },
  {
   "cell_type": "markdown",
   "metadata": {},
   "source": [
    "Here we look at the datatypes which are present in the data, we see that the datatypes we need to deal with next are: categorical (steel_grade_int_text_en,steel_grade_group_text and value_name) and the column with Dates. We will create dummy value columns for the categorical Data and convert the Date columns into Date values corresponding to Epoch time."
   ]
  },
  {
   "cell_type": "code",
   "execution_count": 421,
   "metadata": {},
   "outputs": [
    {
     "name": "stdout",
     "output_type": "stream",
     "text": [
      "<class 'pandas.core.frame.DataFrame'>\n",
      "RangeIndex: 1000 entries, 0 to 999\n",
      "Data columns (total 31 columns):\n",
      "Unnamed: 0                   1000 non-null int64\n",
      "order_weight_min             1000 non-null float64\n",
      "order_weight_aim             1000 non-null float64\n",
      "order_weight_max             1000 non-null float64\n",
      "customer_order_id            1000 non-null int64\n",
      "production_order_id          1000 non-null int64\n",
      "width                        1000 non-null float64\n",
      "thickness                    1000 non-null float64\n",
      "output_weight_target         1000 non-null float64\n",
      "material_sub_type            1000 non-null int64\n",
      "steel_grade_id_int           1000 non-null int64\n",
      "customer_priority            1000 non-null int64\n",
      "piece_weight_min             1000 non-null float64\n",
      "piece_weight_aim             1000 non-null float64\n",
      "piece_weight_max             1000 non-null float64\n",
      "rh_mode                      1000 non-null int64\n",
      "steel_grade_int_text_en      1000 non-null object\n",
      "steel_grade_group_text       1000 non-null object\n",
      "q2count                      1000 non-null int64\n",
      "q3count                      1000 non-null int64\n",
      "productionsteps              1000 non-null int64\n",
      "value_name                   1000 non-null object\n",
      "due_date                     1000 non-null object\n",
      "date_planned_initial_end     1000 non-null object\n",
      "date_target_end              1000 non-null object\n",
      "first_coil_end_date          1000 non-null object\n",
      "first_coil_released_date     1000 non-null object\n",
      "first_coil_delivered_date    1000 non-null object\n",
      "last_coil_end_date           1000 non-null object\n",
      "last_coil_released_date      1000 non-null object\n",
      "last_coil_delivered_date     1000 non-null object\n",
      "dtypes: float64(9), int64(10), object(12)\n",
      "memory usage: 242.3+ KB\n"
     ]
    }
   ],
   "source": [
    "pea_data.info()"
   ]
  },
  {
   "cell_type": "markdown",
   "metadata": {},
   "source": [
    "Converting Date to Epoch time"
   ]
  },
  {
   "cell_type": "code",
   "execution_count": 424,
   "metadata": {},
   "outputs": [],
   "source": [
    "\n",
    "dfn= pea_data[['due_date', 'date_planned_initial_end', 'date_target_end',\\\n",
    "       'first_coil_end_date', 'first_coil_released_date',\\\n",
    "       'first_coil_delivered_date', 'last_coil_end_date',\\\n",
    "       'last_coil_released_date', 'last_coil_delivered_date']]\n",
    "for i in dfn.columns:\n",
    "    pea_data[i] = pd.to_datetime(pea_data[i],errors = 'coerce')\n",
    "    pea_data[i] = pea_data[i].values.astype(np.int64)//10**9"
   ]
  },
  {
   "cell_type": "code",
   "execution_count": 425,
   "metadata": {},
   "outputs": [
    {
     "data": {
      "text/html": [
       "<div>\n",
       "<style scoped>\n",
       "    .dataframe tbody tr th:only-of-type {\n",
       "        vertical-align: middle;\n",
       "    }\n",
       "\n",
       "    .dataframe tbody tr th {\n",
       "        vertical-align: top;\n",
       "    }\n",
       "\n",
       "    .dataframe thead th {\n",
       "        text-align: right;\n",
       "    }\n",
       "</style>\n",
       "<table border=\"1\" class=\"dataframe\">\n",
       "  <thead>\n",
       "    <tr style=\"text-align: right;\">\n",
       "      <th></th>\n",
       "      <th>due_date</th>\n",
       "      <th>date_planned_initial_end</th>\n",
       "      <th>date_target_end</th>\n",
       "      <th>first_coil_end_date</th>\n",
       "      <th>first_coil_released_date</th>\n",
       "      <th>first_coil_delivered_date</th>\n",
       "      <th>last_coil_end_date</th>\n",
       "      <th>last_coil_released_date</th>\n",
       "      <th>last_coil_delivered_date</th>\n",
       "    </tr>\n",
       "  </thead>\n",
       "  <tbody>\n",
       "    <tr>\n",
       "      <th>0</th>\n",
       "      <td>1497657600</td>\n",
       "      <td>1516958040</td>\n",
       "      <td>1521647280</td>\n",
       "      <td>1508194263</td>\n",
       "      <td>1506341887</td>\n",
       "      <td>1503477551</td>\n",
       "      <td>1527466438</td>\n",
       "      <td>1527526344</td>\n",
       "      <td>1512072682</td>\n",
       "    </tr>\n",
       "    <tr>\n",
       "      <th>1</th>\n",
       "      <td>1518822000</td>\n",
       "      <td>1510504680</td>\n",
       "      <td>1504510980</td>\n",
       "      <td>1521009531</td>\n",
       "      <td>1521718266</td>\n",
       "      <td>1527809106</td>\n",
       "      <td>1518603299</td>\n",
       "      <td>1506787599</td>\n",
       "      <td>1514768329</td>\n",
       "    </tr>\n",
       "    <tr>\n",
       "      <th>2</th>\n",
       "      <td>1502496000</td>\n",
       "      <td>1502787060</td>\n",
       "      <td>1507433700</td>\n",
       "      <td>1520368406</td>\n",
       "      <td>1506017169</td>\n",
       "      <td>1523256182</td>\n",
       "      <td>1518499852</td>\n",
       "      <td>1524654904</td>\n",
       "      <td>1505203391</td>\n",
       "    </tr>\n",
       "    <tr>\n",
       "      <th>3</th>\n",
       "      <td>1525478400</td>\n",
       "      <td>1514732220</td>\n",
       "      <td>1503558240</td>\n",
       "      <td>1518987001</td>\n",
       "      <td>1524237557</td>\n",
       "      <td>1508850914</td>\n",
       "      <td>1510806378</td>\n",
       "      <td>1523624280</td>\n",
       "      <td>1524639135</td>\n",
       "    </tr>\n",
       "    <tr>\n",
       "      <th>4</th>\n",
       "      <td>1507334400</td>\n",
       "      <td>1520202840</td>\n",
       "      <td>1506152940</td>\n",
       "      <td>1512743972</td>\n",
       "      <td>1500214318</td>\n",
       "      <td>1523515382</td>\n",
       "      <td>1499032653</td>\n",
       "      <td>1517321841</td>\n",
       "      <td>1504974296</td>\n",
       "    </tr>\n",
       "  </tbody>\n",
       "</table>\n",
       "</div>"
      ],
      "text/plain": [
       "     due_date  date_planned_initial_end  date_target_end  first_coil_end_date  \\\n",
       "0  1497657600                1516958040       1521647280           1508194263   \n",
       "1  1518822000                1510504680       1504510980           1521009531   \n",
       "2  1502496000                1502787060       1507433700           1520368406   \n",
       "3  1525478400                1514732220       1503558240           1518987001   \n",
       "4  1507334400                1520202840       1506152940           1512743972   \n",
       "\n",
       "   first_coil_released_date  first_coil_delivered_date  last_coil_end_date  \\\n",
       "0                1506341887                 1503477551          1527466438   \n",
       "1                1521718266                 1527809106          1518603299   \n",
       "2                1506017169                 1523256182          1518499852   \n",
       "3                1524237557                 1508850914          1510806378   \n",
       "4                1500214318                 1523515382          1499032653   \n",
       "\n",
       "   last_coil_released_date  last_coil_delivered_date  \n",
       "0               1527526344                1512072682  \n",
       "1               1506787599                1514768329  \n",
       "2               1524654904                1505203391  \n",
       "3               1523624280                1524639135  \n",
       "4               1517321841                1504974296  "
      ]
     },
     "execution_count": 425,
     "metadata": {},
     "output_type": "execute_result"
    }
   ],
   "source": [
    "dfn.head(5)"
   ]
  },
  {
   "cell_type": "markdown",
   "metadata": {},
   "source": [
    "Creating Dummy Columns"
   ]
  },
  {
   "cell_type": "code",
   "execution_count": 426,
   "metadata": {},
   "outputs": [],
   "source": [
    "dummy_targets = pd.get_dummies(pea_data, prefix='dummy')\n",
    "final_df = pd.concat([pea_data,dummy_targets],axis=1)\n",
    "\n",
    "final_df.drop(['customer_order_id','production_order_id','Unnamed: 0','steel_grade_int_text_en','steel_grade_group_text','value_name'],inplace=True,axis=1)"
   ]
  },
  {
   "cell_type": "code",
   "execution_count": 427,
   "metadata": {},
   "outputs": [
    {
     "data": {
      "text/html": [
       "<div>\n",
       "<style scoped>\n",
       "    .dataframe tbody tr th:only-of-type {\n",
       "        vertical-align: middle;\n",
       "    }\n",
       "\n",
       "    .dataframe tbody tr th {\n",
       "        vertical-align: top;\n",
       "    }\n",
       "\n",
       "    .dataframe thead th {\n",
       "        text-align: right;\n",
       "    }\n",
       "</style>\n",
       "<table border=\"1\" class=\"dataframe\">\n",
       "  <thead>\n",
       "    <tr style=\"text-align: right;\">\n",
       "      <th></th>\n",
       "      <th>order_weight_min</th>\n",
       "      <th>order_weight_aim</th>\n",
       "      <th>order_weight_max</th>\n",
       "      <th>width</th>\n",
       "      <th>thickness</th>\n",
       "      <th>output_weight_target</th>\n",
       "      <th>material_sub_type</th>\n",
       "      <th>steel_grade_id_int</th>\n",
       "      <th>customer_priority</th>\n",
       "      <th>piece_weight_min</th>\n",
       "      <th>...</th>\n",
       "      <th>dummy_High Strength Low Alloy Steel</th>\n",
       "      <th>dummy_Low Carbon Steel</th>\n",
       "      <th>dummy_Medium Carbon Steel</th>\n",
       "      <th>dummy_Ultra Low Carbon Steel</th>\n",
       "      <th>dummy_CRFH</th>\n",
       "      <th>dummy_CRFP</th>\n",
       "      <th>dummy_CRGI</th>\n",
       "      <th>dummy_HR</th>\n",
       "      <th>dummy_HRGI</th>\n",
       "      <th>dummy_HRP</th>\n",
       "    </tr>\n",
       "  </thead>\n",
       "  <tbody>\n",
       "    <tr>\n",
       "      <th>0</th>\n",
       "      <td>97.975952</td>\n",
       "      <td>65.317299</td>\n",
       "      <td>199.580643</td>\n",
       "      <td>1231.900024</td>\n",
       "      <td>2.1082</td>\n",
       "      <td>90.718475</td>\n",
       "      <td>1</td>\n",
       "      <td>30</td>\n",
       "      <td>2</td>\n",
       "      <td>18.143696</td>\n",
       "      <td>...</td>\n",
       "      <td>0</td>\n",
       "      <td>0</td>\n",
       "      <td>0</td>\n",
       "      <td>0</td>\n",
       "      <td>0</td>\n",
       "      <td>1</td>\n",
       "      <td>0</td>\n",
       "      <td>0</td>\n",
       "      <td>0</td>\n",
       "      <td>0</td>\n",
       "    </tr>\n",
       "    <tr>\n",
       "      <th>1</th>\n",
       "      <td>408.233124</td>\n",
       "      <td>22.679619</td>\n",
       "      <td>24.947580</td>\n",
       "      <td>1219.199951</td>\n",
       "      <td>1.8796</td>\n",
       "      <td>65.317299</td>\n",
       "      <td>8</td>\n",
       "      <td>31</td>\n",
       "      <td>3</td>\n",
       "      <td>17.907825</td>\n",
       "      <td>...</td>\n",
       "      <td>0</td>\n",
       "      <td>1</td>\n",
       "      <td>0</td>\n",
       "      <td>0</td>\n",
       "      <td>0</td>\n",
       "      <td>0</td>\n",
       "      <td>0</td>\n",
       "      <td>1</td>\n",
       "      <td>0</td>\n",
       "      <td>0</td>\n",
       "    </tr>\n",
       "    <tr>\n",
       "      <th>2</th>\n",
       "      <td>19.595190</td>\n",
       "      <td>61.234970</td>\n",
       "      <td>39.916130</td>\n",
       "      <td>1828.800049</td>\n",
       "      <td>0.8636</td>\n",
       "      <td>54.431087</td>\n",
       "      <td>3</td>\n",
       "      <td>26</td>\n",
       "      <td>2</td>\n",
       "      <td>18.288845</td>\n",
       "      <td>...</td>\n",
       "      <td>0</td>\n",
       "      <td>1</td>\n",
       "      <td>0</td>\n",
       "      <td>0</td>\n",
       "      <td>0</td>\n",
       "      <td>0</td>\n",
       "      <td>1</td>\n",
       "      <td>0</td>\n",
       "      <td>0</td>\n",
       "      <td>0</td>\n",
       "    </tr>\n",
       "    <tr>\n",
       "      <th>3</th>\n",
       "      <td>81.646622</td>\n",
       "      <td>163.293243</td>\n",
       "      <td>498.951599</td>\n",
       "      <td>1651.000000</td>\n",
       "      <td>1.4732</td>\n",
       "      <td>36.287392</td>\n",
       "      <td>8</td>\n",
       "      <td>26</td>\n",
       "      <td>1</td>\n",
       "      <td>26.308357</td>\n",
       "      <td>...</td>\n",
       "      <td>0</td>\n",
       "      <td>0</td>\n",
       "      <td>1</td>\n",
       "      <td>0</td>\n",
       "      <td>0</td>\n",
       "      <td>0</td>\n",
       "      <td>1</td>\n",
       "      <td>0</td>\n",
       "      <td>0</td>\n",
       "      <td>0</td>\n",
       "    </tr>\n",
       "    <tr>\n",
       "      <th>4</th>\n",
       "      <td>1095.697754</td>\n",
       "      <td>45.359238</td>\n",
       "      <td>42.909840</td>\n",
       "      <td>1219.199951</td>\n",
       "      <td>12.4460</td>\n",
       "      <td>181.436951</td>\n",
       "      <td>3</td>\n",
       "      <td>26</td>\n",
       "      <td>2</td>\n",
       "      <td>18.143696</td>\n",
       "      <td>...</td>\n",
       "      <td>0</td>\n",
       "      <td>1</td>\n",
       "      <td>0</td>\n",
       "      <td>0</td>\n",
       "      <td>0</td>\n",
       "      <td>0</td>\n",
       "      <td>0</td>\n",
       "      <td>1</td>\n",
       "      <td>0</td>\n",
       "      <td>0</td>\n",
       "    </tr>\n",
       "  </tbody>\n",
       "</table>\n",
       "<p>5 rows × 83 columns</p>\n",
       "</div>"
      ],
      "text/plain": [
       "   order_weight_min  order_weight_aim  order_weight_max        width  \\\n",
       "0         97.975952         65.317299        199.580643  1231.900024   \n",
       "1        408.233124         22.679619         24.947580  1219.199951   \n",
       "2         19.595190         61.234970         39.916130  1828.800049   \n",
       "3         81.646622        163.293243        498.951599  1651.000000   \n",
       "4       1095.697754         45.359238         42.909840  1219.199951   \n",
       "\n",
       "   thickness  output_weight_target  material_sub_type  steel_grade_id_int  \\\n",
       "0     2.1082             90.718475                  1                  30   \n",
       "1     1.8796             65.317299                  8                  31   \n",
       "2     0.8636             54.431087                  3                  26   \n",
       "3     1.4732             36.287392                  8                  26   \n",
       "4    12.4460            181.436951                  3                  26   \n",
       "\n",
       "   customer_priority  piece_weight_min  ...  \\\n",
       "0                  2         18.143696  ...   \n",
       "1                  3         17.907825  ...   \n",
       "2                  2         18.288845  ...   \n",
       "3                  1         26.308357  ...   \n",
       "4                  2         18.143696  ...   \n",
       "\n",
       "   dummy_High Strength Low Alloy Steel   dummy_Low Carbon Steel   \\\n",
       "0                                     0                        0   \n",
       "1                                     0                        1   \n",
       "2                                     0                        1   \n",
       "3                                     0                        0   \n",
       "4                                     0                        1   \n",
       "\n",
       "   dummy_Medium Carbon Steel   dummy_Ultra Low Carbon Steel   dummy_CRFH  \\\n",
       "0                           0                              0           0   \n",
       "1                           0                              0           0   \n",
       "2                           0                              0           0   \n",
       "3                           1                              0           0   \n",
       "4                           0                              0           0   \n",
       "\n",
       "   dummy_CRFP  dummy_CRGI  dummy_HR  dummy_HRGI  dummy_HRP  \n",
       "0           1           0         0           0          0  \n",
       "1           0           0         1           0          0  \n",
       "2           0           1         0           0          0  \n",
       "3           0           1         0           0          0  \n",
       "4           0           0         1           0          0  \n",
       "\n",
       "[5 rows x 83 columns]"
      ]
     },
     "execution_count": 427,
     "metadata": {},
     "output_type": "execute_result"
    }
   ],
   "source": [
    "final_df.head(5)"
   ]
  },
  {
   "cell_type": "markdown",
   "metadata": {},
   "source": [
    "Finally, Using the column 'Lateness', we will create the labels for our data. The lateness values which are  -ve are taken to be not_late and the +ve ones as late. "
   ]
  },
  {
   "cell_type": "code",
   "execution_count": 428,
   "metadata": {},
   "outputs": [],
   "source": [
    "n_l = []\n",
    "\n",
    "for i in labels:\n",
    "    if np.float(i) <= 0 :\n",
    "        n_l.append(1)\n",
    "    else:\n",
    "        n_l.append(0)\n",
    "        \n",
    "final_df['labels']=n_l"
   ]
  },
  {
   "cell_type": "markdown",
   "metadata": {},
   "source": [
    "We check total number of not_late (1) and late (0) cases in our data frame "
   ]
  },
  {
   "cell_type": "code",
   "execution_count": 429,
   "metadata": {},
   "outputs": [
    {
     "data": {
      "text/plain": [
       "1    655\n",
       "0    345\n",
       "Name: labels, dtype: int64"
      ]
     },
     "execution_count": 429,
     "metadata": {},
     "output_type": "execute_result"
    }
   ],
   "source": [
    "final_df['labels'].value_counts()"
   ]
  },
  {
   "cell_type": "markdown",
   "metadata": {},
   "source": [
    "We split the processed, clean dataset into training and testing data sets. with 25% of the original data falling in test data set "
   ]
  },
  {
   "cell_type": "code",
   "execution_count": 430,
   "metadata": {},
   "outputs": [],
   "source": [
    "data_train, data_test = train_test_split(final_df, test_size=0.25,random_state=1443,stratify=final_df.labels)\n",
    "\n"
   ]
  },
  {
   "cell_type": "markdown",
   "metadata": {},
   "source": [
    "We check the number of cases of late and not_late present in the training and test data sets."
   ]
  },
  {
   "cell_type": "code",
   "execution_count": 431,
   "metadata": {},
   "outputs": [
    {
     "name": "stdout",
     "output_type": "stream",
     "text": [
      "1    164\n",
      "0     86\n",
      "Name: labels, dtype: int64\n",
      "1    491\n",
      "0    259\n",
      "Name: labels, dtype: int64\n"
     ]
    }
   ],
   "source": [
    "print(data_test['labels'].value_counts())\n",
    "print(data_train['labels'].value_counts())"
   ]
  },
  {
   "cell_type": "markdown",
   "metadata": {},
   "source": [
    "Finally, before training the Classification Algorithms we seperate the Feature Vectors and Target vectors from both the training and test data sets"
   ]
  },
  {
   "cell_type": "code",
   "execution_count": 432,
   "metadata": {},
   "outputs": [
    {
     "name": "stderr",
     "output_type": "stream",
     "text": [
      "C:\\Users\\saksh\\Anaconda3\\lib\\site-packages\\pandas\\core\\frame.py:3940: SettingWithCopyWarning: \n",
      "A value is trying to be set on a copy of a slice from a DataFrame\n",
      "\n",
      "See the caveats in the documentation: http://pandas.pydata.org/pandas-docs/stable/indexing.html#indexing-view-versus-copy\n",
      "  errors=errors)\n"
     ]
    }
   ],
   "source": [
    "X_train = data_train\n",
    "y_train = data_train['labels']\n",
    "X_train.drop('labels',inplace=True,axis=1)\n",
    "\n",
    "X_test = data_test\n",
    "y_test = data_test['labels']\n",
    "X_test.drop('labels',inplace=True,axis=1)"
   ]
  },
  {
   "cell_type": "markdown",
   "metadata": {},
   "source": [
    "We will define two functions to compute the evaluation metrics of our classificatin Algorithms"
   ]
  },
  {
   "cell_type": "code",
   "execution_count": 433,
   "metadata": {},
   "outputs": [],
   "source": [
    "def calculate_metrics(y_test, y_pred, y_prob=None, sample_weights=None):\n",
    "    \"\"\"Cacluate model performance metrics\"\"\"\n",
    "\n",
    "    # Dictionary of metrics to calculate\n",
    "    metrics = {}\n",
    "    metrics['confusion_matrix']  = confusion_matrix(y_test, y_pred, sample_weight=sample_weights)\n",
    "    metrics['accuracy']          = accuracy_score(y_test, y_pred, sample_weight=sample_weights)\n",
    "    metrics['precision']         = precision_score(y_test, y_pred, sample_weight=sample_weights)\n",
    "    metrics['recall']            = recall_score(y_test, y_pred, sample_weight=sample_weights)\n",
    "\n",
    "\n",
    "    return metrics\n",
    "\n",
    "def conf_mat(metrics):\n",
    "    '''plot and display the confusion matrix'''\n",
    "    array = metrics['confusion_matrix']\n",
    "    classes=['late','n_late']\n",
    "    df_cm = pd.DataFrame(array, index = [i for i in classes],\n",
    "                  columns = [i for i in classes])\n",
    "    plt.figure(figsize = (10,7))\n",
    "    sn.heatmap(df_cm, annot=True,cmap=\"Blues\")\n",
    "    plt.show()"
   ]
  },
  {
   "cell_type": "markdown",
   "metadata": {},
   "source": [
    "First we Train the Logistic Regression Algorithm and Predict the lateness of our test data using the trained algorithm"
   ]
  },
  {
   "cell_type": "code",
   "execution_count": 436,
   "metadata": {
    "scrolled": true
   },
   "outputs": [
    {
     "name": "stdout",
     "output_type": "stream",
     "text": [
      "Training data prediction Confusion Matrix\n"
     ]
    },
    {
     "data": {
      "image/png": "[encoded data removed]",
      "text/plain": [
       "<Figure size 720x504 with 2 Axes>"
      ]
     },
     "metadata": {
      "needs_background": "light"
     },
     "output_type": "display_data"
    },
    {
     "name": "stdout",
     "output_type": "stream",
     "text": [
      "Test data prediction Confusion Matrix\n"
     ]
    },
    {
     "data": {
      "image/png": "[encoded data removed]",
      "text/plain": [
       "<Figure size 720x504 with 2 Axes>"
      ]
     },
     "metadata": {
      "needs_background": "light"
     },
     "output_type": "display_data"
    }
   ],
   "source": [
    "# Fit the model (logistic Regression) \n",
    "model = LogisticRegression(solver = 'liblinear')\n",
    "model.fit(X_train, y_train)\n",
    "\n",
    "train_pred_l = model.predict(X_train)\n",
    "\n",
    "# Run the model\n",
    "y_pred = model.predict(X_test)\n",
    "y_prob = model.predict_proba(X_test)[:,1] \n",
    "\n",
    "#Prediction and Metrics\n",
    "metrics_l_train = calculate_metrics(y_train,train_pred_l)\n",
    "metrics_l_test = calculate_metrics(y_test,y_pred)\n",
    "\n",
    "print('Training data prediction Confusion Matrix')\n",
    "\n",
    "conf_mat(metrics_l_train)\n",
    "\n",
    "print('Test data prediction Confusion Matrix')\n",
    "\n",
    "conf_mat(metrics_l_test)\n",
    "\n",
    "\n",
    "\n"
   ]
  },
  {
   "cell_type": "markdown",
   "metadata": {},
   "source": [
    "Next we Train the Random Forest ( with 200 trees) Algorithm and Predict the lateness of our test data using the trained algorithm "
   ]
  },
  {
   "cell_type": "code",
   "execution_count": 437,
   "metadata": {},
   "outputs": [
    {
     "name": "stdout",
     "output_type": "stream",
     "text": [
      "Training data prediction Confusion Matrix\n"
     ]
    },
    {
     "data": {
      "image/png": "[encoded data removed]",
      "text/plain": [
       "<Figure size 720x504 with 2 Axes>"
      ]
     },
     "metadata": {
      "needs_background": "light"
     },
     "output_type": "display_data"
    },
    {
     "name": "stdout",
     "output_type": "stream",
     "text": [
      "Test data prediction Confusion Matrix\n"
     ]
    },
    {
     "data": {
      "image/png": "[encoded data removed]",
      "text/plain": [
       "<Figure size 720x504 with 2 Axes>"
      ]
     },
     "metadata": {
      "needs_background": "light"
     },
     "output_type": "display_data"
    }
   ],
   "source": [
    "# build the model\n",
    "# Fit the model\n",
    "model = RandomForestClassifier(n_estimators=200,max_depth=50, random_state=14400)\n",
    "model.fit(X_train, y_train)\n",
    "\n",
    "train_pred = model.predict(X_train)\n",
    "\n",
    "# Run the model\n",
    "y_pred_rf = model.predict(X_test)\n",
    "y_prob_rf = model.predict_proba(X_test)[:,1]\n",
    "\n",
    "metrics_rf_train = calculate_metrics(y_train,train_pred)\n",
    "metrics_rf_test = calculate_metrics(y_test,y_pred_rf)\n",
    "\n",
    "print('Training data prediction Confusion Matrix')\n",
    "conf_mat(metrics_rf_train)\n",
    "\n",
    "\n",
    "print('Test data prediction Confusion Matrix')\n",
    "conf_mat(metrics_rf_test)"
   ]
  },
  {
   "cell_type": "markdown",
   "metadata": {},
   "source": [
    "For both the algorithms, we will Plot and compare the three Evaluation Metrics (Accuracy,Precision and Recall) for both test and training data sets"
   ]
  },
  {
   "cell_type": "code",
   "execution_count": 438,
   "metadata": {},
   "outputs": [
    {
     "data": {
      "image/png": "[encoded data removed]",
      "text/plain": [
       "<Figure size 720x360 with 1 Axes>"
      ]
     },
     "metadata": {
      "needs_background": "light"
     },
     "output_type": "display_data"
    }
   ],
   "source": [
    "labels = ['logistic Regression', 'Random Forest']\n",
    "accuracy = [metrics_l_train['accuracy'],metrics_rf_train['accuracy']]\n",
    "precision = [metrics_l_train['precision'], metrics_rf_train['precision']]\n",
    "recall = [metrics_l_train['recall'], metrics_rf_train['recall']]\n",
    "         \n",
    "\n",
    "\n",
    "x = np.arange(len(labels))  # the label locations\n",
    "width = 0.1  # the width of the bars\n",
    "\n",
    "fig, ax = plt.subplots()\n",
    "rects1 = ax.bar(x , accuracy, width,label='accuracy')\n",
    "rects2 = ax.bar(x - width, precision, width, label='precision')\n",
    "rects3 = ax.bar(x + width, recall, width, label='recall')\n",
    "ax.legend(loc=9,ncol=3)\n",
    "\n",
    "def autolabel(rects):\n",
    "    \"\"\"Attach a text label above each bar in *rects*, displaying its height.\"\"\"\n",
    "    for rect in rects:\n",
    "        height = rect.get_height()\n",
    "        ax.annotate('{:.2f}'.format(height),\n",
    "                    xy=(rect.get_x() + rect.get_width() / 2, height),\n",
    "                    xytext=(0, 3),  # 3 points vertical offset\n",
    "                    textcoords=\"offset points\",\n",
    "                    ha='center', va='bottom')\n",
    "\n",
    "ax.set_xticks([0,1])\n",
    "ax.set_ylim(0,1.5)\n",
    "#create a list of  variable names to use as labels for ticks in hor axis\n",
    "xlab=[item.get_text() for item in ax.get_xticklabels()] # list with empty strings. list length determined my the ticks seen in the plots\n",
    "# replace empty strings at even list indexes by variable names in the same order as they are present in the dataframe column names\n",
    "xlab[0]='logistic Regression'\n",
    "xlab[1]='Random Forest'\n",
    "\n",
    "#set the vertical axis tick labels using the list created above\n",
    "ax.set_xticklabels(xlab)\n",
    "         \n",
    "for tick in ax.get_xticklabels():\n",
    "          tick.set_rotation(360)\n",
    "\n",
    "#Set the figure size so that all four panel graphs are clearly visible\n",
    "fig.set_size_inches(10,5)   \n",
    "#Set a title for the figure\n",
    "fig.suptitle(' Training Evaluation Metrics for logistic Regression & Random Forest'\\\n",
    "             ,y=1,fontsize=15,fontweight='bold')\n",
    "plt.grid(True)\n",
    "autolabel(rects1)\n",
    "autolabel(rects2)\n",
    "autolabel(rects3)\n",
    "\n",
    "plt.show()          "
   ]
  },
  {
   "cell_type": "code",
   "execution_count": 439,
   "metadata": {},
   "outputs": [
    {
     "data": {
      "image/png": "[encoded data removed]",
      "text/plain": [
       "<Figure size 720x360 with 1 Axes>"
      ]
     },
     "metadata": {
      "needs_background": "light"
     },
     "output_type": "display_data"
    }
   ],
   "source": [
    "labels = ['logistic Regression', 'Random Forest']\n",
    "accuracy = [metrics_l_test['accuracy'],metrics_rf_test['accuracy']]\n",
    "precision = [metrics_l_test['precision'], metrics_rf_test['precision']]\n",
    "recall = [metrics_l_test['recall'], metrics_rf_test['recall']]\n",
    "         \n",
    "\n",
    "\n",
    "x = np.arange(len(labels))  # the label locations\n",
    "width = 0.1  # the width of the bars\n",
    "\n",
    "fig, ax = plt.subplots()\n",
    "rects1 = ax.bar(x , accuracy, width,label='accuracy')\n",
    "rects2 = ax.bar(x - width, precision, width, label='precision')\n",
    "rects3 = ax.bar(x + width, recall, width, label='recall')\n",
    "ax.legend(loc=9,ncol=3)\n",
    "\n",
    "def autolabel(rects):\n",
    "    \"\"\"Attach a text label above each bar in *rects*, displaying its height.\"\"\"\n",
    "    for rect in rects:\n",
    "        height = rect.get_height()\n",
    "        ax.annotate('{:.2f}'.format(height),\n",
    "                    xy=(rect.get_x() + rect.get_width() / 2, height),\n",
    "                    xytext=(0, 3),  # 3 points vertical offset\n",
    "                    textcoords=\"offset points\",\n",
    "                    ha='center', va='bottom')\n",
    "\n",
    "ax.set_xticks([0,1])\n",
    "ax.set_ylim(0,1.5)\n",
    "#create a list of  variable names to use as labels for ticks in hor axis\n",
    "xlab=[item.get_text() for item in ax.get_xticklabels()] # list with empty strings. list length determined my the ticks seen in the plots\n",
    "# replace empty strings at even list indexes by variable names in the same order as they are present in the dataframe column names\n",
    "xlab[0]='logistic Regression'\n",
    "xlab[1]='Random Forest'\n",
    "\n",
    "#set the vertical axis tick labels using the list created above\n",
    "ax.set_xticklabels(xlab)\n",
    "         \n",
    "for tick in ax.get_xticklabels():\n",
    "          tick.set_rotation(360)\n",
    "\n",
    "#Set the figure size so that all four panel graphs are clearly visible\n",
    "fig.set_size_inches(10,5)   \n",
    "#Set a title for the figure\n",
    "fig.suptitle(' Test Evaluation Metrics for logistic Regression & Random Forest'\\\n",
    "             ,y=1,fontsize=15,fontweight='bold')\n",
    "plt.grid(True)\n",
    "autolabel(rects1)\n",
    "autolabel(rects2)\n",
    "autolabel(rects3)\n",
    "\n",
    "plt.show()          "
   ]
  },
  {
   "cell_type": "markdown",
   "metadata": {},
   "source": [
    "Looking at the evaluation Metrics, it is evident that Random Forest algorithm is able to learn and generalize well from the training data. This is seen from both the confusion Matrix we plotted and also from the value of the three evaluation metrics. Which might mean that the Random Forest model is overfitting our test data. But, when we look at the values of the evaluation metrics for the test data, both the algorithms seem to preform on similar levels. Therefore it is still difficult for us to identify one model as the best, from these evaluation metrics. Therefore, we will finally plot the Receiver operating characteristic (ROC) curve for both the models. Theoritically, the more area covered in the ROC curve by a particular algorithm hints towards a better preformance.  "
   ]
  },
  {
   "cell_type": "code",
   "execution_count": 373,
   "metadata": {},
   "outputs": [
    {
     "data": {
      "image/png": "[encoded data removed]",
      "text/plain": [
       "<Figure size 432x288 with 1 Axes>"
      ]
     },
     "metadata": {
      "needs_background": "light"
     },
     "output_type": "display_data"
    }
   ],
   "source": [
    "#roc curve for test data\n",
    "\n",
    "#roc logistic\n",
    "fpr, tpr, thresholds = roc_curve(y_pred, y_test)\n",
    "roc_auc = auc(fpr, tpr)\n",
    "\n",
    "# roc random Forest\n",
    "\n",
    "fpr_r, tpr_r, thresholds_r = roc_curve(y_pred_rf, y_test)\n",
    "roc_auc_r = auc(fpr_r, tpr_r)\n",
    "\n",
    "\n",
    "plt.figure()\n",
    "plt.plot(fpr, tpr, color='darkorange', lw=1, label='ROC curve logistic Regression (area = %0.2f)' % roc_auc)\n",
    "plt.plot(fpr_r, tpr_r, color='red', lw=1, label='ROC curve Random Forest (area = %0.2f)' % roc_auc_r)\n",
    "plt.plot([0, 1], [0, 1], color='navy', lw=1, linestyle='--')\n",
    "plt.xlim([0.0, 1.0])\n",
    "plt.ylim([0.0, 1.05])\n",
    "plt.xlabel('False Positive Rate')\n",
    "plt.ylabel('True Positive Rate')\n",
    "plt.title('Receiver operating characteristic')\n",
    "plt.legend(loc=\"lower right\")\n",
    "plt.show()"
   ]
  },
  {
   "cell_type": "markdown",
   "metadata": {},
   "source": [
    "The ROC curve for the Random Forest Model shows a greater area coverage compared to the LOgistic Regression Model. The preformance of both these models can be further improved with techniques of Cross-Validation, Feature extraction and dealing with class imbalance. "
   ]
  },
  {
   "cell_type": "code",
   "execution_count": null,
   "metadata": {},
   "outputs": [],
   "source": []
  }
 ],
 "metadata": {
  "kernelspec": {
   "display_name": "Python 3",
   "language": "python",
   "name": "python3"
  },
  "language_info": {
   "codemirror_mode": {
    "name": "ipython",
    "version": 3
   },
   "file_extension": ".py",
   "mimetype": "text/x-python",
   "name": "python",
   "nbconvert_exporter": "python",
   "pygments_lexer": "ipython3",
   "version": "3.7.3"
  }
 },
 "nbformat": 4,
 "nbformat_minor": 2
}
